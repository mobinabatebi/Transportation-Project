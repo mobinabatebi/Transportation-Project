{
 "cells": [
  {
   "cell_type": "code",
   "id": "e2ad1c82fb8a444b",
   "metadata": {
    "collapsed": true,
    "ExecuteTime": {
     "end_time": "2024-12-12T21:22:47.635674Z",
     "start_time": "2024-12-12T21:22:46.201683Z"
    }
   },
   "source": [
    "import pandas as pd\n",
    "import numpy as np\n",
    "import seaborn as sns\n",
    "import matplotlib.pyplot as plt\n",
    "from sklearn.feature_selection import RFE, SelectKBest, chi2\n",
    "from sklearn.ensemble import HistGradientBoostingClassifier, HistGradientBoostingRegressor\n",
    "from sklearn.tree import DecisionTreeClassifier\n",
    "from sklearn.ensemble import RandomForestClassifier\n",
    "from xgboost import XGBClassifier\n",
    "from sklearn.metrics import classification_report, accuracy_score\n",
    "from sklearn.metrics import mean_absolute_error\n",
    "from sklearn.model_selection import train_test_split, cross_val_score\n",
    "from sklearn.linear_model import LinearRegression\n",
    "from sklearn.ensemble import RandomForestRegressor\n",
    "from xgboost import XGBRegressor\n",
    "from sklearn.metrics import mean_squared_error, r2_score\n",
    "from sklearn.model_selection import GridSearchCV"
   ],
   "outputs": [],
   "execution_count": 1
  },
  {
   "metadata": {},
   "cell_type": "markdown",
   "source": [
    "# Part 1\n",
    "\n",
    "Load the dataset\n",
    "\n",
    "Drop irrelevant columns"
   ],
   "id": "49952139a1e75d5b"
  },
  {
   "metadata": {
    "ExecuteTime": {
     "end_time": "2024-12-12T21:23:02.228887Z",
     "start_time": "2024-12-12T21:22:55.856146Z"
    }
   },
   "cell_type": "code",
   "source": [
    "df = pd.read_csv('2021_Green_Taxi_Trip_Data.csv')\n",
    "\n",
    "irrelevant_columns = ['RatecodeID', 'store_and_fwd_flag', 'improvement_surcharge',\n",
    "                      'ehail_fee', 'mta_tax', 'extra', 'fare_amount',\n",
    "                      'congestion_surcharge']\n",
    "df = df.drop(irrelevant_columns, axis=1)"
   ],
   "id": "babc1ee2b4203424",
   "outputs": [
    {
     "name": "stderr",
     "output_type": "stream",
     "text": [
      "C:\\Users\\frequensy\\AppData\\Local\\Temp\\ipykernel_19548\\2799095637.py:1: DtypeWarning: Columns (3) have mixed types. Specify dtype option on import or set low_memory=False.\n",
      "  df = pd.read_csv('2021_Green_Taxi_Trip_Data.csv')\n"
     ]
    }
   ],
   "execution_count": 2
  },
  {
   "metadata": {},
   "cell_type": "markdown",
   "source": [
    "\n",
    "Convert relevant columns to appropriate types\n",
    "\n",
    "Handle specific values as requested"
   ],
   "id": "f7a56164bd2a469f"
  },
  {
   "metadata": {
    "ExecuteTime": {
     "end_time": "2024-12-12T21:23:17.533906Z",
     "start_time": "2024-12-12T21:23:16.644764Z"
    }
   },
   "cell_type": "code",
   "source": [
    "df['payment_type'] = df['payment_type'].astype(object)\n",
    "df['trip_type'] = df['trip_type'].astype(object)\n",
    "\n",
    "\n",
    "df.loc[(df['tip_amount'] > 0) & (df['payment_type'].isnull()), 'payment_type'] = 1\n",
    "df.loc[df['passenger_count'] > 4, 'payment_type'] = 6\n",
    "df.loc[df['passenger_count'] > 4, 'trip_type'] = 3\n",
    "df.dropna(subset=['VendorID'], inplace=True)"
   ],
   "id": "f867184937d345f1",
   "outputs": [],
   "execution_count": 3
  },
  {
   "metadata": {},
   "cell_type": "markdown",
   "source": [
    "\n",
    "Convert pickup and dropoff datetime\n",
    "\n",
    "Extract hour/day/month from pickup_datetime\n",
    "\n",
    "Drop original datetime columns"
   ],
   "id": "28ece0939cba6a89"
  },
  {
   "metadata": {
    "ExecuteTime": {
     "end_time": "2024-12-12T21:23:52.857419Z",
     "start_time": "2024-12-12T21:23:34.797769Z"
    }
   },
   "cell_type": "code",
   "source": [
    "df['pickup_datetime'] = pd.to_datetime(df['lpep_pickup_datetime'], format='%m/%d/%Y %I:%M:%S %p')\n",
    "df = df[df['pickup_datetime'].dt.year == 2021]\n",
    "percent_missing = df.isnull().sum() * 100 / len(df)\n",
    "missing_value_df = pd.DataFrame({'column_name': df.columns, 'percent_missing': percent_missing})\n",
    "print(missing_value_df)\n",
    "\n",
    "df['pickup_hour'] = df['pickup_datetime'].dt.hour\n",
    "df['pickup_day'] = df['pickup_datetime'].dt.day\n",
    "df['pickup_month'] = df['pickup_datetime'].dt.month\n",
    "\n",
    "\n",
    "df['dropoff_datetime'] = pd.to_datetime(df['lpep_dropoff_datetime'], format='%m/%d/%Y %I:%M:%S %p')\n",
    "df['dropoff_hour'] = df['dropoff_datetime'].dt.hour\n",
    "df['dropoff_day'] = df['dropoff_datetime'].dt.day\n",
    "df['dropoff_month'] = df['dropoff_datetime'].dt.month\n",
    "\n",
    "\n",
    "df.drop(columns=['lpep_pickup_datetime', 'lpep_dropoff_datetime'], inplace=True)"
   ],
   "id": "cb7f1610fd95e00e",
   "outputs": [
    {
     "name": "stdout",
     "output_type": "stream",
     "text": [
      "                                 column_name  percent_missing\n",
      "VendorID                            VendorID         0.000000\n",
      "lpep_pickup_datetime    lpep_pickup_datetime         0.000000\n",
      "lpep_dropoff_datetime  lpep_dropoff_datetime         0.000000\n",
      "PULocationID                    PULocationID         0.000000\n",
      "DOLocationID                    DOLocationID         0.000000\n",
      "passenger_count              passenger_count        19.926428\n",
      "trip_distance                  trip_distance         0.000000\n",
      "tip_amount                        tip_amount         0.000000\n",
      "tolls_amount                    tolls_amount         0.000000\n",
      "total_amount                    total_amount         0.000000\n",
      "payment_type                    payment_type        16.344603\n",
      "trip_type                          trip_type        19.926428\n",
      "pickup_datetime              pickup_datetime         0.000000\n"
     ]
    }
   ],
   "execution_count": 4
  },
  {
   "metadata": {},
   "cell_type": "markdown",
   "source": "Merge borough information into the main DataFrame",
   "id": "4f562429284bae5b"
  },
  {
   "metadata": {
    "ExecuteTime": {
     "end_time": "2024-12-12T21:24:06.541886Z",
     "start_time": "2024-12-12T21:24:05.321849Z"
    }
   },
   "cell_type": "code",
   "source": [
    "borough_df = pd.read_csv('Boroughs.csv')\n",
    "df = df.merge(borough_df[['LocationID', 'Borough']], left_on='PULocationID', right_on='LocationID', how='left')\n",
    "df.rename(columns={'Borough': 'PU_Borough'}, inplace=True)\n",
    "\n",
    "df = df.merge(borough_df[['LocationID', 'Borough']], left_on='DOLocationID', right_on='LocationID', how='left')\n",
    "df.rename(columns={'Borough': 'DO_Borough'}, inplace=True)"
   ],
   "id": "9a87ba11939f16c1",
   "outputs": [],
   "execution_count": 5
  },
  {
   "metadata": {},
   "cell_type": "markdown",
   "source": [
    "\n",
    "Encode boroughs"
   ],
   "id": "3705e577afca795e"
  },
  {
   "metadata": {
    "ExecuteTime": {
     "end_time": "2024-12-12T21:24:14.961166Z",
     "start_time": "2024-12-12T21:24:13.330783Z"
    }
   },
   "cell_type": "code",
   "source": [
    "df = pd.get_dummies(df, columns=['PU_Borough'], prefix=['PU'], drop_first=True)\n",
    "df.drop([ 'PULocationID', 'DOLocationID', 'LocationID_x', 'LocationID_y','pickup_datetime', 'dropoff_datetime' ,'DO_Borough'], axis=1, inplace=True)\n",
    "print(df.columns)"
   ],
   "id": "20adacea64b6ab0",
   "outputs": [
    {
     "name": "stdout",
     "output_type": "stream",
     "text": [
      "Index(['VendorID', 'passenger_count', 'trip_distance', 'tip_amount',\n",
      "       'tolls_amount', 'total_amount', 'payment_type', 'trip_type',\n",
      "       'pickup_hour', 'pickup_day', 'pickup_month', 'dropoff_hour',\n",
      "       'dropoff_day', 'dropoff_month', 'PU_Brooklyn', 'PU_EWR', 'PU_Manhattan',\n",
      "       'PU_Queens', 'PU_Staten Island'],\n",
      "      dtype='object')\n"
     ]
    }
   ],
   "execution_count": 6
  },
  {
   "metadata": {},
   "cell_type": "markdown",
   "source": "Handle missing value using regression or classification",
   "id": "8c33acec4b2a6735"
  },
  {
   "metadata": {
    "ExecuteTime": {
     "end_time": "2024-12-12T21:25:12.851644Z",
     "start_time": "2024-12-12T21:24:30.096379Z"
    }
   },
   "cell_type": "code",
   "source": [
    "df = df.apply(pd.to_numeric, errors='coerce')\n",
    "for column in df.columns:\n",
    "    null_percentage = df[column].isnull().mean()\n",
    "    if 0.05 < null_percentage <= 0.3:\n",
    "        missing_rows = df[df[column].isnull()]\n",
    "        complete_rows = df[df[column].notnull()]\n",
    "\n",
    "        features_to_drop = [column]\n",
    "        if complete_rows[column].dtype in ['int64', 'float64']:\n",
    "            model = HistGradientBoostingRegressor()\n",
    "            model.fit(complete_rows.drop(columns=features_to_drop, errors='ignore'), complete_rows[column])\n",
    "            predicted_values = model.predict(missing_rows.drop(columns=features_to_drop, errors='ignore'))\n",
    "            df.loc[df[column].isnull(), column] = predicted_values\n",
    "\n",
    "\n",
    "        else:\n",
    "            model = HistGradientBoostingClassifier()\n",
    "            model.fit(complete_rows.drop(columns=features_to_drop, errors='ignore'), complete_rows[column])\n",
    "            predicted_values = model.predict(missing_rows.drop(columns=features_to_drop, errors='ignore'))\n",
    "            df.loc[df[column].isnull(), column] = predicted_values\n",
    "\n",
    "print(df.head())\n",
    "print(df.info())"
   ],
   "id": "d48b337495089a",
   "outputs": [
    {
     "name": "stdout",
     "output_type": "stream",
     "text": [
      "   VendorID  passenger_count  trip_distance  tip_amount  tolls_amount  \\\n",
      "0       2.0              1.0           1.01        0.00           0.0   \n",
      "1       2.0              1.0           2.53        2.81           0.0   \n",
      "2       2.0              1.0           1.12        1.00           0.0   \n",
      "3       2.0              3.0           0.00        0.00           0.0   \n",
      "4       2.0              3.0           0.00        0.00           0.0   \n",
      "\n",
      "   total_amount  payment_type  trip_type  pickup_hour  pickup_day  \\\n",
      "0          6.80           2.0        1.0            0           1   \n",
      "1         16.86           1.0        1.0            0           1   \n",
      "2          8.30           1.0        1.0            0           1   \n",
      "3        -52.80           3.0        1.0            0           1   \n",
      "4         52.80           2.0        1.0            0           1   \n",
      "\n",
      "   pickup_month  dropoff_hour  dropoff_day  dropoff_month  PU_Brooklyn  \\\n",
      "0             1             0            1              1        False   \n",
      "1             1             0            1              1        False   \n",
      "2             1             0            1              1        False   \n",
      "3             1             0            1              1        False   \n",
      "4             1             0            1              1        False   \n",
      "\n",
      "   PU_EWR  PU_Manhattan  PU_Queens  PU_Staten Island  \n",
      "0   False          True      False             False  \n",
      "1   False          True      False             False  \n",
      "2   False          True      False             False  \n",
      "3   False          True      False             False  \n",
      "4   False          True      False             False  \n",
      "<class 'pandas.core.frame.DataFrame'>\n",
      "RangeIndex: 819610 entries, 0 to 819609\n",
      "Data columns (total 19 columns):\n",
      " #   Column            Non-Null Count   Dtype  \n",
      "---  ------            --------------   -----  \n",
      " 0   VendorID          819610 non-null  float64\n",
      " 1   passenger_count   819610 non-null  float64\n",
      " 2   trip_distance     819610 non-null  float64\n",
      " 3   tip_amount        819610 non-null  float64\n",
      " 4   tolls_amount      819610 non-null  float64\n",
      " 5   total_amount      819610 non-null  float64\n",
      " 6   payment_type      819610 non-null  float64\n",
      " 7   trip_type         819610 non-null  float64\n",
      " 8   pickup_hour       819610 non-null  int32  \n",
      " 9   pickup_day        819610 non-null  int32  \n",
      " 10  pickup_month      819610 non-null  int32  \n",
      " 11  dropoff_hour      819610 non-null  int32  \n",
      " 12  dropoff_day       819610 non-null  int32  \n",
      " 13  dropoff_month     819610 non-null  int32  \n",
      " 14  PU_Brooklyn       819610 non-null  bool   \n",
      " 15  PU_EWR            819610 non-null  bool   \n",
      " 16  PU_Manhattan      819610 non-null  bool   \n",
      " 17  PU_Queens         819610 non-null  bool   \n",
      " 18  PU_Staten Island  819610 non-null  bool   \n",
      "dtypes: bool(5), float64(8), int32(6)\n",
      "memory usage: 72.7 MB\n",
      "None\n"
     ]
    }
   ],
   "execution_count": 7
  },
  {
   "metadata": {},
   "cell_type": "markdown",
   "source": [
    "\n",
    "Calculate and display missing values percentage"
   ],
   "id": "be20bac82ab68b37"
  },
  {
   "metadata": {
    "ExecuteTime": {
     "end_time": "2024-12-12T21:25:32.896097Z",
     "start_time": "2024-12-12T21:25:32.843901Z"
    }
   },
   "cell_type": "code",
   "source": [
    "percent_missing = df.isnull().sum() * 100 / len(df)\n",
    "missing_value_df = pd.DataFrame({'column_name': df.columns, 'percent_missing': percent_missing})\n",
    "print(missing_value_df)"
   ],
   "id": "eff82a7ca8624e46",
   "outputs": [
    {
     "name": "stdout",
     "output_type": "stream",
     "text": [
      "                       column_name  percent_missing\n",
      "VendorID                  VendorID              0.0\n",
      "passenger_count    passenger_count              0.0\n",
      "trip_distance        trip_distance              0.0\n",
      "tip_amount              tip_amount              0.0\n",
      "tolls_amount          tolls_amount              0.0\n",
      "total_amount          total_amount              0.0\n",
      "payment_type          payment_type              0.0\n",
      "trip_type                trip_type              0.0\n",
      "pickup_hour            pickup_hour              0.0\n",
      "pickup_day              pickup_day              0.0\n",
      "pickup_month          pickup_month              0.0\n",
      "dropoff_hour          dropoff_hour              0.0\n",
      "dropoff_day            dropoff_day              0.0\n",
      "dropoff_month        dropoff_month              0.0\n",
      "PU_Brooklyn            PU_Brooklyn              0.0\n",
      "PU_EWR                      PU_EWR              0.0\n",
      "PU_Manhattan          PU_Manhattan              0.0\n",
      "PU_Queens                PU_Queens              0.0\n",
      "PU_Staten Island  PU_Staten Island              0.0\n"
     ]
    }
   ],
   "execution_count": 8
  },
  {
   "metadata": {},
   "cell_type": "markdown",
   "source": [
    "# Part 2\n",
    "## 2.2\n",
    "Plotting the Trip Type Distribution by Hour \n",
    "Trip Type Distribution by Hour "
   ],
   "id": "1ea4ad93ee9b125a"
  },
  {
   "metadata": {
    "ExecuteTime": {
     "end_time": "2024-12-12T21:28:29.514608Z",
     "start_time": "2024-12-12T21:28:28.412620Z"
    }
   },
   "cell_type": "code",
   "source": [
    " \n",
    "df_1=df[:100000]\n",
    "print(df_1.columns)\n",
    "sns.set_style(\"whitegrid\")\n",
    "plt.rcParams['axes.prop_cycle'] = plt.cycler(color=sns.color_palette(\"bright\"))\n",
    "trip_type_hourly_distribution = df_1.groupby(['pickup_hour', 'trip_type']).size().unstack(fill_value=0)\n",
    "plt.figure(figsize=(14, 7))  \n",
    "sns.barplot(data=trip_type_hourly_distribution.reset_index().melt(id_vars=['pickup_hour']),\n",
    "            x='pickup_hour', y='value', hue='trip_type', errorbar=None)\n",
    "plt.title('Trip Type Distribution by Hour of Day')  \n",
    "plt.xlabel('Hour of Day')  \n",
    "plt.ylabel('Number of Trips')  \n",
    "plt.xticks(rotation=0)  # Rotate x-axis labels for better readability  \n",
    "plt.legend(title='Trip Type', bbox_to_anchor=(1.05, 1), loc='upper left')  \n",
    "plt.tight_layout()  \n",
    "plt.show()  "
   ],
   "id": "9efb6856e90d8d0b",
   "outputs": [
    {
     "name": "stdout",
     "output_type": "stream",
     "text": [
      "Index(['VendorID', 'passenger_count', 'trip_distance', 'tip_amount',\n",
      "       'tolls_amount', 'total_amount', 'payment_type', 'trip_type',\n",
      "       'pickup_hour', 'pickup_day', 'pickup_month', 'dropoff_hour',\n",
      "       'dropoff_day', 'dropoff_month', 'PU_Brooklyn', 'PU_EWR', 'PU_Manhattan',\n",
      "       'PU_Queens', 'PU_Staten Island'],\n",
      "      dtype='object')\n"
     ]
    },
    {
     "data": {
      "text/plain": [
       "<Figure size 1400x700 with 1 Axes>"
      ],
      "image/png": "[encoded data removed]"
     },
     "metadata": {},
     "output_type": "display_data"
    }
   ],
   "execution_count": 11
  },
  {
   "metadata": {},
   "cell_type": "markdown",
   "source": [
    "\n",
    "Payment Type Distribution by Hour  \n",
    "\n",
    "Plotting the Payment Type Distribution by Hour"
   ],
   "id": "468cec349c6b28aa"
  },
  {
   "metadata": {},
   "cell_type": "code",
   "outputs": [],
   "execution_count": null,
   "source": [
    "  \n",
    "payment_type_hourly_distribution = df_1.groupby(['pickup_hour', 'payment_type']).size().unstack(fill_value=0)\n",
    "plt.figure(figsize=(14, 7))  \n",
    "sns.barplot(data=payment_type_hourly_distribution.reset_index().melt(id_vars=['pickup_hour']),\n",
    "            x='pickup_hour', y='value', hue='payment_type', ci=None)\n",
    "plt.title('Payment Type Distribution by Hour of Day')  \n",
    "plt.xlabel('Hour of Day')  \n",
    "plt.ylabel('Number of Trips')  \n",
    "plt.xticks(rotation=0)  # Rotate x-axis labels for better readability  \n",
    "plt.legend(title='Payment Type', bbox_to_anchor=(1.05, 1), loc='upper left')  \n",
    "plt.tight_layout()  \n",
    "plt.show()  "
   ],
   "id": "8d2eeb6f602b4b69"
  },
  {
   "metadata": {},
   "cell_type": "markdown",
   "source": [
    "Discarding trips with trip type dispatch \n",
    "\n",
    "Analyzing green taxi usage by pickup hour trend"
   ],
   "id": "a8bcb17d5e5c2539"
  },
  {
   "metadata": {},
   "cell_type": "code",
   "outputs": [],
   "execution_count": null,
   "source": [
    "taxi_df = df_1[df_1['trip_type'] != 3]\n",
    "green_taxi_usage = taxi_df.groupby('pickup_hour').size()\n",
    "\n",
    "plt.figure(figsize=(10, 6))\n",
    "green_taxi_usage.plot(kind='bar', color='green')\n",
    "plt.title('Green Taxi Usage by Hour of Day ')\n",
    "plt.xlabel('Hour of Day')\n",
    "plt.ylabel('Number of Green Taxi Trips')\n",
    "plt.xticks(rotation=45)\n",
    "plt.grid(axis='y')\n",
    "plt.show()"
   ],
   "id": "deda293968c3c2dd"
  },
  {
   "metadata": {},
   "cell_type": "markdown",
   "source": "Grouping by all dummy variables for boroughs and pickup hour",
   "id": "1bf59c5b28e536f9"
  },
  {
   "metadata": {},
   "cell_type": "code",
   "outputs": [],
   "execution_count": null,
   "source": [
    "df_1['Pickup_Borough'] = df_1.apply(\n",
    "    lambda row: 'Brooklyn' if row['PU_Brooklyn'] == 1 else\n",
    "                'EWR' if row['PU_EWR'] == 1 else\n",
    "                'Manhattan' if row['PU_Manhattan'] == 1 else\n",
    "                'Queens' if row['PU_Queens'] == 1 else\n",
    "                'Staten Island' if row['PU_Staten Island'] == 1 else\n",
    "                'Bronx', axis=1\n",
    ")\n",
    "green_taxi_trend = df_1.groupby([ 'Pickup_Borough','pickup_hour']).size().unstack(fill_value=0)"
   ],
   "id": "ca1de9b87a18d678"
  },
  {
   "metadata": {},
   "cell_type": "markdown",
   "source": "Plotting the trend of green taxi usage by boroughs",
   "id": "27951490386982f5"
  },
  {
   "metadata": {},
   "cell_type": "code",
   "outputs": [],
   "execution_count": null,
   "source": [
    "plt.figure(figsize=(14, 7))\n",
    "green_taxi_trend.T.plot(kind='bar', figsize=(14, 7))\n",
    "plt.title('Green Taxi Usage Trend by Borough')\n",
    "plt.xlabel('Hour of Day')\n",
    "plt.ylabel('Number of Trips')\n",
    "plt.legend(title='Borough', bbox_to_anchor=(1.05, 1), loc='upper left')\n",
    "plt.grid()\n",
    "plt.tight_layout()\n",
    "plt.show()\n",
    "df_1 = df_1.drop('Pickup_Borough', axis=1)"
   ],
   "id": "636517c770343dfd"
  },
  {
   "metadata": {},
   "cell_type": "markdown",
   "source": [
    "# Part 3\n",
    "## 3.1\n",
    "Correlation heatmap"
   ],
   "id": "9e32d781de240754"
  },
  {
   "metadata": {},
   "cell_type": "code",
   "outputs": [],
   "execution_count": null,
   "source": [
    "correlation_matrix = df_1.corr()\n",
    "plt.figure(figsize=(12, 8))\n",
    "sns.heatmap(correlation_matrix, annot=True, cmap='coolwarm', fmt=\".2f\", linewidths=0.5)\n",
    "plt.title('Correlation Matrix for Predicting Total Amount')\n",
    "plt.show()"
   ],
   "id": "addcb3e1845f6347"
  },
  {
   "metadata": {},
   "cell_type": "markdown",
   "source": "Printing columns with the highest correlation with total_amount",
   "id": "1f83e7e25fefe5f7"
  },
  {
   "metadata": {},
   "cell_type": "code",
   "outputs": [],
   "execution_count": null,
   "source": [
    "correlation_with_total = correlation_matrix['total_amount'].sort_values(ascending=False)\n",
    "print(\"Top correlations with total_amount:\")\n",
    "print(correlation_with_total)"
   ],
   "id": "e367354c095b93e7"
  },
  {
   "metadata": {},
   "cell_type": "markdown",
   "source": [
    "## 3.2\n",
    "1. Backward feature selection"
   ],
   "id": "b5ba946e0a488fbf"
  },
  {
   "metadata": {},
   "cell_type": "code",
   "outputs": [],
   "execution_count": null,
   "source": [
    "\n",
    "def backward_feature_selection(data, target_column='total_amount', n_features=5):\n",
    "    X = data.drop(columns=[target_column])\n",
    "    y = data[target_column]\n",
    "    model = LinearRegression()\n",
    "    rfe = RFE(estimator=model, n_features_to_select=n_features)\n",
    "    rfe.fit(X, y)\n",
    "    selected_features = X.columns[rfe.support_]\n",
    "    return list(selected_features)\n",
    "\n",
    "backward_selected_features = backward_feature_selection(df_1, target_column='total_amount', n_features=5)\n",
    "print(\"Backward Selected Features:\", backward_selected_features)\n"
   ],
   "id": "242e473a5de99fe5"
  },
  {
   "metadata": {},
   "cell_type": "markdown",
   "source": "2. Forward feature selection",
   "id": "cdd68c89a51b77b1"
  },
  {
   "metadata": {},
   "cell_type": "code",
   "outputs": [],
   "execution_count": null,
   "source": [
    "\n",
    "def forward_feature_selection(data, target_column='total_amount', n_features=5):\n",
    "    X = data.drop(columns=[target_column])\n",
    "    y = data[target_column]\n",
    "    model = LinearRegression()\n",
    "    selected_features = []\n",
    "    remaining_features = list(X.columns)\n",
    "    while len(selected_features) < n_features and remaining_features:\n",
    "        best_score = -np.inf\n",
    "        best_feature = None\n",
    "        for feature in remaining_features:\n",
    "            trial_features = selected_features + [feature]\n",
    "            scores = cross_val_score(model, X[trial_features], y, cv=5, scoring='r2')\n",
    "            mean_score = np.mean(scores)\n",
    "            if mean_score > best_score:\n",
    "                best_score = mean_score\n",
    "                best_feature = feature\n",
    "        if best_feature is not None:\n",
    "            selected_features.append(best_feature)\n",
    "            remaining_features.remove(best_feature)\n",
    "    return selected_features\n",
    "forward_selected_features = forward_feature_selection(df_1, target_column='total_amount', n_features=5)\n",
    "print(\"Forward Selected features:\", forward_selected_features)"
   ],
   "id": "215adcfc1678542c"
  },
  {
   "metadata": {},
   "cell_type": "markdown",
   "source": [
    "\n",
    "3. Random forest feature selection"
   ],
   "id": "bbfe510663339d6a"
  },
  {
   "metadata": {},
   "cell_type": "code",
   "outputs": [],
   "execution_count": null,
   "source": [
    "\n",
    "def random_forest_feature_selection(data, target_column='total_amount', n_features=5):\n",
    "    X = data.drop(columns=[target_column])\n",
    "    y = data[target_column]\n",
    "\n",
    "    model = RandomForestRegressor(n_estimators=100, random_state=0)\n",
    "    model.fit(X, y)\n",
    "\n",
    "    feature_importances = pd.Series(model.feature_importances_, index=X.columns)\n",
    "\n",
    "    selected_features = feature_importances.nlargest(n_features).index.tolist()\n",
    "    return selected_features\n",
    "rf_selected_features = random_forest_feature_selection(df_1, target_column='total_amount', n_features=5)\n",
    "print(\"Random Forest Selected Features:\", rf_selected_features)\n"
   ],
   "id": "6bf221be6900729c"
  },
  {
   "metadata": {},
   "cell_type": "markdown",
   "source": "4. Chi square feature selection",
   "id": "b8e8ee02a6b49615"
  },
  {
   "metadata": {},
   "cell_type": "code",
   "outputs": [],
   "execution_count": null,
   "source": [
    "def chi_square_feature_selection(data, target_column='pct', n_features=5):    \n",
    "    if data[target_column].dtype not in ['int64', 'int32', 'bool', 'uint8']:\n",
    "        data[target_column] = pd.qcut(data[target_column], q=4, labels=False)\n",
    "    X = data.drop(columns=[target_column])\n",
    "    y = data[target_column]\n",
    "    for column in X.columns:\n",
    "        if X[column].dtype in ['float64', 'int64']:\n",
    "            X[column] = pd.cut(X[column], bins=5, labels=False)\n",
    "        X[column] = X[column].clip(lower=0)\n",
    "    chi_selector = SelectKBest(score_func=chi2, k=n_features)\n",
    "    X_kbest = chi_selector.fit_transform(X, y)\n",
    "    selected_features = X.columns[chi_selector.get_support()]\n",
    "    return selected_features\n",
    "chi_selected_features = chi_square_feature_selection(df_1, target_column='total_amount', n_features=5)\n",
    "print(\"Chi-Square Selected Features (Chi-Square):\", list(chi_selected_features))"
   ],
   "id": "845db2d7d6953906"
  },
  {
   "metadata": {},
   "cell_type": "markdown",
   "source": [
    "\n",
    "## 3.3"
   ],
   "id": "b337457960546fcd"
  },
  {
   "metadata": {},
   "cell_type": "code",
   "outputs": [],
   "execution_count": null,
   "source": [
    "\n",
    "df_1['tip_given'] = (df_1['tip_amount'] > 0).astype(int)\n",
    "X = df_1.drop(columns=['tip_given', 'tip_amount'])  # حذف ستون‌های غیرضروری\n",
    "y = df_1['tip_given']\n",
    "X_train, X_test, y_train, y_test = train_test_split(X, y, test_size=0.2, random_state=42)\n"
   ],
   "id": "cadd1dc54de64b0b"
  },
  {
   "metadata": {},
   "cell_type": "markdown",
   "source": [
    "\n",
    "1. Decision Tree Classifier"
   ],
   "id": "2676ce72cf588da5"
  },
  {
   "metadata": {},
   "cell_type": "code",
   "outputs": [],
   "execution_count": null,
   "source": [
    "dt_model = DecisionTreeClassifier(random_state=42)\n",
    "dt_model.fit(X_train, y_train)\n",
    "y_pred_dt = dt_model.predict(X_test)\n",
    "print(\"Decision Tree Classifier Report:\")\n",
    "print(classification_report(y_test, y_pred_dt))\n",
    "print(\"Accuracy:\", accuracy_score(y_test, y_pred_dt))"
   ],
   "id": "15b871a534252069"
  },
  {
   "metadata": {},
   "cell_type": "markdown",
   "source": [
    "\n",
    "2. Random Forest Classifier"
   ],
   "id": "470183a51810276d"
  },
  {
   "metadata": {},
   "cell_type": "code",
   "outputs": [],
   "execution_count": null,
   "source": [
    "rf_model = RandomForestClassifier(n_estimators=100, random_state=42)\n",
    "rf_model.fit(X_train, y_train)\n",
    "y_pred_rf = rf_model.predict(X_test)\n",
    "print(\"\\nRandom Forest Classifier Report:\")\n",
    "print(classification_report(y_test, y_pred_rf))\n",
    "print(\"Accuracy:\", accuracy_score(y_test, y_pred_rf))"
   ],
   "id": "ae3cc64ad314aec4"
  },
  {
   "metadata": {},
   "cell_type": "markdown",
   "source": "3. XGBoost Classifier",
   "id": "ae46a8ec0470d4f4"
  },
  {
   "metadata": {},
   "cell_type": "code",
   "outputs": [],
   "execution_count": null,
   "source": [
    "xgb_model = XGBClassifier(use_label_encoder=False, eval_metric='logloss', random_state=42)\n",
    "xgb_model.fit(X_train, y_train)\n",
    "y_pred_xgb = xgb_model.predict(X_test)\n",
    "print(\"\\nXGBoost Classifier Report:\")\n",
    "print(classification_report(y_test, y_pred_xgb))\n",
    "print(\"Accuracy:\", accuracy_score(y_test, y_pred_xgb))"
   ],
   "id": "d72ff60fcf1f67c4"
  },
  {
   "metadata": {},
   "cell_type": "markdown",
   "source": [
    "## 3.4\n",
    "\n",
    "Function to train and evaluate linear regression model\n",
    "\n",
    "Split data into training and testing sets\n",
    "\n",
    "Train Linear Regression model\n",
    "\n",
    "Evaluation with MSE and R^2\n"
   ],
   "id": "feec3dde17bd996f"
  },
  {
   "metadata": {},
   "cell_type": "code",
   "outputs": [],
   "execution_count": null,
   "source": [
    "def evaluate_linear_regression(features, X, y):\n",
    "    X_train, X_test, y_train, y_test = train_test_split(X[features], y, test_size=0.2, random_state=42)\n",
    "\n",
    "    lr_model = LinearRegression()\n",
    "    lr_model.fit(X_train, y_train)\n",
    "\n",
    "    y_pred = lr_model.predict(X_test)\n",
    "    mse = mean_squared_error(y_test, y_pred)\n",
    "    r2 = r2_score(y_test, y_pred)\n",
    "\n",
    "    return mse, r2"
   ],
   "id": "624f64c9af1ebd7e"
  },
  {
   "metadata": {},
   "cell_type": "markdown",
   "source": [
    "\n",
    "Define target variable and features\n",
    "\n",
    "Identify feature subsets from different selection methods\n",
    "\n",
    "Evaluate Linear Regression for each feature subset\n",
    "\n",
    "Convert results to a DataFrame"
   ],
   "id": "84d2f22a8d46f08b"
  },
  {
   "metadata": {},
   "cell_type": "code",
   "outputs": [],
   "execution_count": null,
   "source": [
    "y = df_1['total_amount']\n",
    "X = df_1.drop(columns=['total_amount'])\n",
    "\n",
    "\n",
    "feature_selection_methods = {\n",
    "    'Backward': backward_selected_features,\n",
    "    'Forward': forward_selected_features,\n",
    "    'Random Forest': rf_selected_features,\n",
    "    'Chi-Square': list(chi_selected_features)\n",
    "}\n",
    "\n",
    "\n",
    "results = []\n",
    "for method, features in feature_selection_methods.items():\n",
    "    mse, r2 = evaluate_linear_regression(features, X, y)\n",
    "    results.append({'Method': method, 'MSE': mse, 'R^2': r2})\n",
    "\n",
    "results_df = pd.DataFrame(results)"
   ],
   "id": "c03ec8add1068188"
  },
  {
   "metadata": {},
   "cell_type": "markdown",
   "source": "Find the best feature set based on MSE",
   "id": "b7e4f91ff3b8ba35"
  },
  {
   "metadata": {},
   "cell_type": "code",
   "outputs": [],
   "execution_count": null,
   "source": [
    "best_method = results_df.loc[results_df['MSE'].idxmin()]\n",
    "best_features = feature_selection_methods[best_method['Method']]\n",
    "\n",
    "print(\"Feature Selection Results:\")\n",
    "print(results_df)\n",
    "print(\"\\nBest Feature Set Based on MSE:\")\n",
    "print(f\"Method: {best_method['Method']}, MSE: {best_method['MSE']}, R^2: {best_method['R^2']}\")"
   ],
   "id": "c22a3449c1bd881b"
  },
  {
   "metadata": {},
   "cell_type": "markdown",
   "source": [
    "\n",
    "Integrate the best Linear Regression model with Random Forest and XGBoost for comparison\n",
    "1. Train and evaluate the best Linear Regression model"
   ],
   "id": "7c98a772b8c25df4"
  },
  {
   "metadata": {},
   "cell_type": "code",
   "outputs": [],
   "execution_count": null,
   "source": [
    "\n",
    "X_train, X_test, y_train, y_test = train_test_split(X[best_features], y, test_size=0.2, random_state=42)\n",
    "lr_model = LinearRegression()\n",
    "lr_model.fit(X_train, y_train)\n",
    "y_pred_lr = lr_model.predict(X_test)\n",
    "lr_mse = mean_squared_error(y_test, y_pred_lr)\n",
    "lr_r2 = r2_score(y_test, y_pred_lr)\n",
    "X_train, X_test, y_train, y_test = train_test_split(X, y, test_size=0.2, random_state=42)"
   ],
   "id": "9ce0f2dbbffca018"
  },
  {
   "metadata": {},
   "cell_type": "markdown",
   "source": " 2. Random Forest Regressor",
   "id": "f4ddf25a6ee650ec"
  },
  {
   "metadata": {},
   "cell_type": "code",
   "outputs": [],
   "execution_count": null,
   "source": [
    "rf_model = RandomForestRegressor(n_estimators=100, random_state=42)\n",
    "rf_model.fit(X_train, y_train)\n",
    "y_pred_rf = rf_model.predict(X_test)\n",
    "rf_mse = mean_squared_error(y_test, y_pred_rf)\n",
    "rf_r2 = r2_score(y_test, y_pred_rf)"
   ],
   "id": "19a28de7727a6096"
  },
  {
   "metadata": {},
   "cell_type": "markdown",
   "source": "3. XGBoost Regressor",
   "id": "406327b59f8ab2ca"
  },
  {
   "metadata": {},
   "cell_type": "code",
   "outputs": [],
   "execution_count": null,
   "source": [
    "xgb_model = XGBRegressor(n_estimators=100, learning_rate=0.1, max_depth=6, random_state=42)\n",
    "xgb_model.fit(X_train, y_train)\n",
    "y_pred_xgb = xgb_model.predict(X_test)\n",
    "xgb_mse = mean_squared_error(y_test, y_pred_xgb)\n",
    "xgb_r2 = r2_score(y_test, y_pred_xgb)"
   ],
   "id": "908577c172d8ebac"
  },
  {
   "metadata": {},
   "cell_type": "markdown",
   "source": "Comparison of models.",
   "id": "23630491654765ad"
  },
  {
   "metadata": {},
   "cell_type": "code",
   "outputs": [],
   "execution_count": null,
   "source": [
    "comparison_results = {\n",
    "    'Model': ['Linear Regression', 'Random Forest', 'XGBoost'],\n",
    "    'Mean Squared Error': [lr_mse, rf_mse, xgb_mse],\n",
    "    'R^2 Score': [lr_r2, rf_r2, xgb_r2]\n",
    "}\n",
    "comparison_df = pd.DataFrame(comparison_results)\n",
    "\n",
    "print(\"\\nModel Comparison:\")\n",
    "print(comparison_df)\n",
    "best_model = comparison_df.loc[comparison_df['Mean Squared Error'].idxmin()]"
   ],
   "id": "ee00c2fb79370ed9"
  },
  {
   "metadata": {},
   "cell_type": "markdown",
   "source": "Displaying the best model based on MSE.",
   "id": "f6cc05b4141a2808"
  },
  {
   "metadata": {},
   "cell_type": "code",
   "outputs": [],
   "execution_count": null,
   "source": [
    "\n",
    "print(\"\\nBest Model Based on MSE:\")\n",
    "print(f\"Method: {best_model['Model']}, MSE: {best_model['Mean Squared Error']:.4f}, R^2: {best_model['R^2 Score']:.4f}\")"
   ],
   "id": "50e6cf150b4bb149"
  },
  {
   "metadata": {},
   "cell_type": "markdown",
   "source": "Showing the 10 most important features and how important they are.",
   "id": "9f3e085b8c955aca"
  },
  {
   "metadata": {},
   "cell_type": "code",
   "outputs": [],
   "execution_count": null,
   "source": [
    "rf_importances = pd.Series(rf_model.feature_importances_,index=X.columns)\n",
    "xgb_importances = pd.Series(xgb_model.feature_importances_,index=X.columns)\n",
    "\n",
    "plt.figure(figsize=(12, 6))\n",
    "plt.subplot(1, 2, 1)\n",
    "rf_importances.nlargest(10).plot(kind='bar', title='Random Forest Feature Importances')\n",
    "plt.subplot(1, 2, 2)\n",
    "xgb_importances.nlargest(10).plot(kind='bar', title='XGBoost Feature Importances')\n",
    "plt.tight_layout()\n",
    "plt.show()"
   ],
   "id": "2af3494cb29b1d49"
  },
  {
   "metadata": {},
   "cell_type": "markdown",
   "source": [
    "## 3.5\n",
    "Specifying a parameter grid, containing potential parameter values so that the algorithm iterates over it.\n",
    "Getting the best parameters as an output."
   ],
   "id": "844156154b0e2d63"
  },
  {
   "metadata": {},
   "cell_type": "code",
   "outputs": [],
   "execution_count": null,
   "source": [
    "param_grid = {\n",
    "    'learning_rate': [0.01, 0.05, 0.1],\n",
    "    'max_depth': [3, 5, 7],\n",
    "    'subsample': [0.8, 0.9, 1.0]\n",
    "}\n",
    "\n",
    "grid_search = GridSearchCV(estimator=xgb_model, param_grid=param_grid, scoring='neg_mean_absolute_error', cv=5, verbose=1)\n",
    "grid_search.fit(X_train, y_train)\n",
    "\n",
    "\n",
    "print(f\"Best parameters found: {grid_search.best_params_}\")"
   ],
   "id": "b92d20c7a20d33f7"
  },
  {
   "metadata": {},
   "cell_type": "markdown",
   "source": "Now, we calculate the Mean Square Error and Root Mean Squared Error of the model with the best parameters.",
   "id": "c2c265a7289efeee"
  },
  {
   "metadata": {},
   "cell_type": "code",
   "outputs": [],
   "execution_count": null,
   "source": [
    "best_xgb_model = grid_search.best_estimator_\n",
    "y_pred = best_xgb_model.predict(X_test)\n",
    "\n",
    "mae = mean_absolute_error(y_test, y_pred)\n",
    "rmse = np.sqrt(mean_squared_error(y_test, y_pred))\n",
    "\n",
    "print(f\"Mean Absolute Error (MAE): {mae:.2f}\")\n",
    "print(f\"Root Mean Squared Error (RMSE): {rmse:.2f}\")\n"
   ],
   "id": "initial_id"
  }
 ],
 "metadata": {
  "kernelspec": {
   "display_name": "Python 3",
   "language": "python",
   "name": "python3"
  },
  "language_info": {
   "codemirror_mode": {
    "name": "ipython",
    "version": 2
   },
   "file_extension": ".py",
   "mimetype": "text/x-python",
   "name": "python",
   "nbconvert_exporter": "python",
   "pygments_lexer": "ipython2",
   "version": "2.7.6"
  }
 },
 "nbformat": 4,
 "nbformat_minor": 5
}
